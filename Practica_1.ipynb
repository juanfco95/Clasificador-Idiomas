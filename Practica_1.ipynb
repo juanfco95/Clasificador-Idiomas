{
 "cells": [
  {
   "cell_type": "code",
   "execution_count": 66,
   "metadata": {
    "collapsed": true
   },
   "outputs": [],
   "source": [
    "import pandas as pd\n",
    "from sklearn.svm import SVC\n",
    "from sklearn.model_selection import train_test_split\n",
    "from sklearn.metrics import classification_report\n",
    "import numpy as np\n",
    "import matplotlib.pyplot as plt\n",
    "import Funciones as function"
   ]
  },
  {
   "cell_type": "markdown",
   "source": [],
   "metadata": {
    "collapsed": false
   }
  },
  {
   "cell_type": "markdown",
   "source": [
    "# El problema\n",
    "En esta práctica trataremos un problema de clasificación en el que los datos que se proporcionan son unas 1000 palabras en lengua catalana y el mismo número de palabras en lengua inglesa. El objetivo es generar un documento en el que se detalle de forma clara y concisa el proceso seguido para la extracción de características y las decisiones tomadas en la construcción del modelo de clasificación basado en SVM."
   ],
   "metadata": {
    "collapsed": false
   }
  },
  {
   "cell_type": "markdown",
   "source": [
    "## Los datos\n",
    "#### Importamos los datos\n",
    "\n",
    "*Para leer el dataset usaremos la función [**read_csv()**](https://pandas.pydata.org/docs/reference/api/pandas.read_csv.html) de [**pandas**](https://pandas.pydata.org/)*"
   ],
   "metadata": {
    "collapsed": false
   }
  },
  {
   "cell_type": "code",
   "execution_count": 67,
   "outputs": [
    {
     "data": {
      "text/plain": "   0 catala angles\n0  1    com     as\n1  3   seva    his\n2  4    que   that\n3  5    ell     he\n4  6    era    was",
      "text/html": "<div>\n<style scoped>\n    .dataframe tbody tr th:only-of-type {\n        vertical-align: middle;\n    }\n\n    .dataframe tbody tr th {\n        vertical-align: top;\n    }\n\n    .dataframe thead th {\n        text-align: right;\n    }\n</style>\n<table border=\"1\" class=\"dataframe\">\n  <thead>\n    <tr style=\"text-align: right;\">\n      <th></th>\n      <th>0</th>\n      <th>catala</th>\n      <th>angles</th>\n    </tr>\n  </thead>\n  <tbody>\n    <tr>\n      <th>0</th>\n      <td>1</td>\n      <td>com</td>\n      <td>as</td>\n    </tr>\n    <tr>\n      <th>1</th>\n      <td>3</td>\n      <td>seva</td>\n      <td>his</td>\n    </tr>\n    <tr>\n      <th>2</th>\n      <td>4</td>\n      <td>que</td>\n      <td>that</td>\n    </tr>\n    <tr>\n      <th>3</th>\n      <td>5</td>\n      <td>ell</td>\n      <td>he</td>\n    </tr>\n    <tr>\n      <th>4</th>\n      <td>6</td>\n      <td>era</td>\n      <td>was</td>\n    </tr>\n  </tbody>\n</table>\n</div>"
     },
     "execution_count": 67,
     "metadata": {},
     "output_type": "execute_result"
    }
   ],
   "source": [
    "df = pd.read_csv(\"data.csv\",sep=\"\\s+\")\n",
    "df.head(5)"
   ],
   "metadata": {
    "collapsed": false
   }
  },
  {
   "cell_type": "markdown",
   "source": [
    "#### Preparamos los datos\n",
    "Debido a que tenemos el dataset separado en dos columnas en función de su idioma, lo primero que tenemos que hacer para empezar a trabajar con los datos es mover todas las palabras a una misma columna \"palabra\", y hemos creado una segunda columna \"idioma\" en la que hemos etiquetado cada una de las muestras con el idioma correspondiente, -1 para las palabras en catalán y 1 para las palabras en inglés.\n",
    "\n",
    "*Usaremos la función [**rename()**](https://pandas.pydata.org/pandas-docs/stable/reference/api/pandas.DataFrame.rename.html) para cambiar el nombre de las columnas, la función [**concat()**](https://pandas.pydata.org/pandas-docs/stable/reference/api/pandas.concat.html) nos permite concatenar verticalmente dos dataframe y por último [**reset_index()**](https://pandas.pydata.org/docs/reference/api/pandas.DataFrame.reset_index.html) nos permite reiniciar los índices, que al fusionar los dataframes no siguen un orden, y asi el dataframe queda ordenado*"
   ],
   "metadata": {
    "collapsed": false
   }
  },
  {
   "cell_type": "code",
   "execution_count": 68,
   "outputs": [
    {
     "data": {
      "text/plain": "        palabra  idioma\n1971       nose       1\n1972     plural       1\n1973      anger       1\n1974      claim       1\n1975  continent       1",
      "text/html": "<div>\n<style scoped>\n    .dataframe tbody tr th:only-of-type {\n        vertical-align: middle;\n    }\n\n    .dataframe tbody tr th {\n        vertical-align: top;\n    }\n\n    .dataframe thead th {\n        text-align: right;\n    }\n</style>\n<table border=\"1\" class=\"dataframe\">\n  <thead>\n    <tr style=\"text-align: right;\">\n      <th></th>\n      <th>palabra</th>\n      <th>idioma</th>\n    </tr>\n  </thead>\n  <tbody>\n    <tr>\n      <th>1971</th>\n      <td>nose</td>\n      <td>1</td>\n    </tr>\n    <tr>\n      <th>1972</th>\n      <td>plural</td>\n      <td>1</td>\n    </tr>\n    <tr>\n      <th>1973</th>\n      <td>anger</td>\n      <td>1</td>\n    </tr>\n    <tr>\n      <th>1974</th>\n      <td>claim</td>\n      <td>1</td>\n    </tr>\n    <tr>\n      <th>1975</th>\n      <td>continent</td>\n      <td>1</td>\n    </tr>\n  </tbody>\n</table>\n</div>"
     },
     "execution_count": 68,
     "metadata": {},
     "output_type": "execute_result"
    }
   ],
   "source": [
    "df_catalan = pd.DataFrame(df['catala']) #Creamos un dataframe a partir del dataframe original para separar catalan\n",
    "df_catalan['idioma'] = -1 #Establecemos un valor de -1 para todas las palabras en catalán\n",
    "df_catalan.rename(columns={'catala': 'palabra'}, inplace=True) #Renombramos la columna de 'catala' a 'palabra'\n",
    "\n",
    "df_ingles = pd.DataFrame(df['angles']) #Creamos un dataframe a partir del dataframe original para separar ingles\n",
    "df_ingles['idioma'] = 1 #Establecemos un valor de 1 para todas las palabras en inglés\n",
    "df_ingles.rename(columns={'angles': 'palabra'}, inplace=True) #Renombramos la columna de 'ingles' a 'palabra'\n",
    "\n",
    "df_idiomas = pd.concat([df_catalan,df_ingles],axis=0) #Fusionamos df_catala y df_ingles en un solo dataframe\n",
    "df_idiomas = df_idiomas.reset_index(drop=True) #Reiniciamos los índices para que tengan continuidad\n",
    "df_idiomas.tail(5)"
   ],
   "metadata": {
    "collapsed": false
   }
  },
  {
   "cell_type": "markdown",
   "source": [],
   "metadata": {
    "collapsed": false
   }
  },
  {
   "cell_type": "markdown",
   "source": [
    "Para mostrar los resultados finales crearemos un dataset que iremos rellenando con los datos de los diferentes modelos."
   ],
   "metadata": {
    "collapsed": false
   }
  },
  {
   "cell_type": "code",
   "execution_count": 69,
   "outputs": [],
   "source": [
    "res_cat=[]\n",
    "res_ing=[]\n",
    "res_glo=[]"
   ],
   "metadata": {
    "collapsed": false
   }
  },
  {
   "cell_type": "markdown",
   "source": [
    "## PRIMERA ITERACIÓN\n",
    "Para esta iteración nuestra intención es extraer algunas características genéricas de una palabra y realizar una primera prueba para observar los resultados. Las características serán las siguientes:\n",
    "- **num_vocales**: Número total de vocales de una muestra.\n",
    "- **num_cons**: Número total de consonantes de una muestra.\n",
    "- **longitud**: Longitud de una muestra.\n",
    "- **conjuntosVocales**: Número total de conjuntos de más de una vocal de una muestra."
   ],
   "metadata": {
    "collapsed": false
   }
  },
  {
   "cell_type": "code",
   "execution_count": 70,
   "outputs": [],
   "source": [
    "df_idiomas1 = df_idiomas.copy() # Copiamos el dataset original para mantenerlo limpio"
   ],
   "metadata": {
    "collapsed": false
   }
  },
  {
   "cell_type": "markdown",
   "source": [
    "*Contamos el número de vocales haciendo uso de nuestra función **count_chars()** definida dentro de **Funciones.py**,esta función cuenta las veces que aparece alguno de los terminos de una secuencia en la palabra*"
   ],
   "metadata": {
    "collapsed": false
   }
  },
  {
   "cell_type": "code",
   "execution_count": 71,
   "outputs": [
    {
     "data": {
      "text/plain": "  palabra  idioma  num_vocales\n0     com      -1            1\n1    seva      -1            2\n2     que      -1            2\n3     ell      -1            1\n4     era      -1            2",
      "text/html": "<div>\n<style scoped>\n    .dataframe tbody tr th:only-of-type {\n        vertical-align: middle;\n    }\n\n    .dataframe tbody tr th {\n        vertical-align: top;\n    }\n\n    .dataframe thead th {\n        text-align: right;\n    }\n</style>\n<table border=\"1\" class=\"dataframe\">\n  <thead>\n    <tr style=\"text-align: right;\">\n      <th></th>\n      <th>palabra</th>\n      <th>idioma</th>\n      <th>num_vocales</th>\n    </tr>\n  </thead>\n  <tbody>\n    <tr>\n      <th>0</th>\n      <td>com</td>\n      <td>-1</td>\n      <td>1</td>\n    </tr>\n    <tr>\n      <th>1</th>\n      <td>seva</td>\n      <td>-1</td>\n      <td>2</td>\n    </tr>\n    <tr>\n      <th>2</th>\n      <td>que</td>\n      <td>-1</td>\n      <td>2</td>\n    </tr>\n    <tr>\n      <th>3</th>\n      <td>ell</td>\n      <td>-1</td>\n      <td>1</td>\n    </tr>\n    <tr>\n      <th>4</th>\n      <td>era</td>\n      <td>-1</td>\n      <td>2</td>\n    </tr>\n  </tbody>\n</table>\n</div>"
     },
     "execution_count": 71,
     "metadata": {},
     "output_type": "execute_result"
    }
   ],
   "source": [
    "search_terms = 'aeiouáéíóúàèìòùäëïöüâêîôû' #Hay que contar todas las vocales incluyendo las vocales con acentos\n",
    "df_idiomas1['num_vocales']=function.count_chars(df_idiomas1['palabra'],search_terms) # Usaremos nuestra propia función count_chars()\n",
    "df_idiomas1.head(5)"
   ],
   "metadata": {
    "collapsed": false
   }
  },
  {
   "cell_type": "markdown",
   "source": [
    "*Contamos el número de consonantes, como una palabra está formada por vocales y consonantes y ya sabemos el número de vocales que tienen, entonces el número de consonantes es el número de letras de una palabra menos la cantidad de vocales.\n",
    "A partir de aquí se usará bastante la función [**iloc[]**](https://pandas.pydata.org/docs/reference/api/pandas.DataFrame.iloc.html) que nos permitirá recorrer los dataframe y sus columnas, ya que nos permite acceder a una position de estos usando un índice*"
   ],
   "metadata": {
    "collapsed": false
   }
  },
  {
   "cell_type": "code",
   "execution_count": 72,
   "outputs": [
    {
     "data": {
      "text/plain": "  palabra  idioma  num_vocales  num_cons\n0     com      -1            1         2\n1    seva      -1            2         2\n2     que      -1            2         1\n3     ell      -1            1         2\n4     era      -1            2         1",
      "text/html": "<div>\n<style scoped>\n    .dataframe tbody tr th:only-of-type {\n        vertical-align: middle;\n    }\n\n    .dataframe tbody tr th {\n        vertical-align: top;\n    }\n\n    .dataframe thead th {\n        text-align: right;\n    }\n</style>\n<table border=\"1\" class=\"dataframe\">\n  <thead>\n    <tr style=\"text-align: right;\">\n      <th></th>\n      <th>palabra</th>\n      <th>idioma</th>\n      <th>num_vocales</th>\n      <th>num_cons</th>\n    </tr>\n  </thead>\n  <tbody>\n    <tr>\n      <th>0</th>\n      <td>com</td>\n      <td>-1</td>\n      <td>1</td>\n      <td>2</td>\n    </tr>\n    <tr>\n      <th>1</th>\n      <td>seva</td>\n      <td>-1</td>\n      <td>2</td>\n      <td>2</td>\n    </tr>\n    <tr>\n      <th>2</th>\n      <td>que</td>\n      <td>-1</td>\n      <td>2</td>\n      <td>1</td>\n    </tr>\n    <tr>\n      <th>3</th>\n      <td>ell</td>\n      <td>-1</td>\n      <td>1</td>\n      <td>2</td>\n    </tr>\n    <tr>\n      <th>4</th>\n      <td>era</td>\n      <td>-1</td>\n      <td>2</td>\n      <td>1</td>\n    </tr>\n  </tbody>\n</table>\n</div>"
     },
     "execution_count": 72,
     "metadata": {},
     "output_type": "execute_result"
    }
   ],
   "source": [
    "num_cons=[]\n",
    "for i in range(len(df_idiomas1)):\n",
    "    num_cons.append(len(df_idiomas1.iloc[i]['palabra']) - df_idiomas1.iloc[i]['num_vocales']) #Hacemos la resta\n",
    "df_idiomas1['num_cons']=num_cons\n",
    "df_idiomas1.head(5)"
   ],
   "metadata": {
    "collapsed": false
   }
  },
  {
   "cell_type": "markdown",
   "source": [
    "*Calculamos la longitud de las palabras, para esto usaremos la función [**len()**](https://docs.python.org/3/library/functions.html#len), que calcula la longitud de un objeto*"
   ],
   "metadata": {
    "collapsed": false
   }
  },
  {
   "cell_type": "code",
   "execution_count": 73,
   "outputs": [
    {
     "data": {
      "text/plain": "        palabra  idioma  num_vocales  num_cons  longitud\n0           com      -1            1         2         3\n1          seva      -1            2         2         4\n2           que      -1            2         1         3\n3           ell      -1            1         2         3\n4           era      -1            2         1         3\n...         ...     ...          ...       ...       ...\n1971       nose       1            2         2         4\n1972     plural       1            2         4         6\n1973      anger       1            2         3         5\n1974      claim       1            2         3         5\n1975  continent       1            3         6         9\n\n[1976 rows x 5 columns]",
      "text/html": "<div>\n<style scoped>\n    .dataframe tbody tr th:only-of-type {\n        vertical-align: middle;\n    }\n\n    .dataframe tbody tr th {\n        vertical-align: top;\n    }\n\n    .dataframe thead th {\n        text-align: right;\n    }\n</style>\n<table border=\"1\" class=\"dataframe\">\n  <thead>\n    <tr style=\"text-align: right;\">\n      <th></th>\n      <th>palabra</th>\n      <th>idioma</th>\n      <th>num_vocales</th>\n      <th>num_cons</th>\n      <th>longitud</th>\n    </tr>\n  </thead>\n  <tbody>\n    <tr>\n      <th>0</th>\n      <td>com</td>\n      <td>-1</td>\n      <td>1</td>\n      <td>2</td>\n      <td>3</td>\n    </tr>\n    <tr>\n      <th>1</th>\n      <td>seva</td>\n      <td>-1</td>\n      <td>2</td>\n      <td>2</td>\n      <td>4</td>\n    </tr>\n    <tr>\n      <th>2</th>\n      <td>que</td>\n      <td>-1</td>\n      <td>2</td>\n      <td>1</td>\n      <td>3</td>\n    </tr>\n    <tr>\n      <th>3</th>\n      <td>ell</td>\n      <td>-1</td>\n      <td>1</td>\n      <td>2</td>\n      <td>3</td>\n    </tr>\n    <tr>\n      <th>4</th>\n      <td>era</td>\n      <td>-1</td>\n      <td>2</td>\n      <td>1</td>\n      <td>3</td>\n    </tr>\n    <tr>\n      <th>...</th>\n      <td>...</td>\n      <td>...</td>\n      <td>...</td>\n      <td>...</td>\n      <td>...</td>\n    </tr>\n    <tr>\n      <th>1971</th>\n      <td>nose</td>\n      <td>1</td>\n      <td>2</td>\n      <td>2</td>\n      <td>4</td>\n    </tr>\n    <tr>\n      <th>1972</th>\n      <td>plural</td>\n      <td>1</td>\n      <td>2</td>\n      <td>4</td>\n      <td>6</td>\n    </tr>\n    <tr>\n      <th>1973</th>\n      <td>anger</td>\n      <td>1</td>\n      <td>2</td>\n      <td>3</td>\n      <td>5</td>\n    </tr>\n    <tr>\n      <th>1974</th>\n      <td>claim</td>\n      <td>1</td>\n      <td>2</td>\n      <td>3</td>\n      <td>5</td>\n    </tr>\n    <tr>\n      <th>1975</th>\n      <td>continent</td>\n      <td>1</td>\n      <td>3</td>\n      <td>6</td>\n      <td>9</td>\n    </tr>\n  </tbody>\n</table>\n<p>1976 rows × 5 columns</p>\n</div>"
     },
     "execution_count": 73,
     "metadata": {},
     "output_type": "execute_result"
    }
   ],
   "source": [
    "lengths_= []\n",
    "for i in range(len(df_idiomas1)):\n",
    "    lengths_.append(len(df_idiomas1['palabra'].iloc[i])) #Calculamos la longitud de las palabras\n",
    "df_idiomas1['longitud'] = lengths_\n",
    "df_idiomas1"
   ],
   "metadata": {
    "collapsed": false
   }
  },
  {
   "cell_type": "markdown",
   "source": [
    "*Calculamos cuantos conjuntos de vocales seguidas existen en la palabra, para esto usaremos nuestra propia función **count_sets_()***"
   ],
   "metadata": {
    "collapsed": false
   }
  },
  {
   "cell_type": "code",
   "execution_count": 74,
   "outputs": [
    {
     "data": {
      "text/plain": "        palabra  idioma  num_vocales  num_cons  longitud  conjuntosVocales\n0           com      -1            1         2         3                 0\n1          seva      -1            2         2         4                 0\n2           que      -1            2         1         3                 1\n3           ell      -1            1         2         3                 0\n4           era      -1            2         1         3                 0\n...         ...     ...          ...       ...       ...               ...\n1971       nose       1            2         2         4                 0\n1972     plural       1            2         4         6                 0\n1973      anger       1            2         3         5                 0\n1974      claim       1            2         3         5                 1\n1975  continent       1            3         6         9                 0\n\n[1976 rows x 6 columns]",
      "text/html": "<div>\n<style scoped>\n    .dataframe tbody tr th:only-of-type {\n        vertical-align: middle;\n    }\n\n    .dataframe tbody tr th {\n        vertical-align: top;\n    }\n\n    .dataframe thead th {\n        text-align: right;\n    }\n</style>\n<table border=\"1\" class=\"dataframe\">\n  <thead>\n    <tr style=\"text-align: right;\">\n      <th></th>\n      <th>palabra</th>\n      <th>idioma</th>\n      <th>num_vocales</th>\n      <th>num_cons</th>\n      <th>longitud</th>\n      <th>conjuntosVocales</th>\n    </tr>\n  </thead>\n  <tbody>\n    <tr>\n      <th>0</th>\n      <td>com</td>\n      <td>-1</td>\n      <td>1</td>\n      <td>2</td>\n      <td>3</td>\n      <td>0</td>\n    </tr>\n    <tr>\n      <th>1</th>\n      <td>seva</td>\n      <td>-1</td>\n      <td>2</td>\n      <td>2</td>\n      <td>4</td>\n      <td>0</td>\n    </tr>\n    <tr>\n      <th>2</th>\n      <td>que</td>\n      <td>-1</td>\n      <td>2</td>\n      <td>1</td>\n      <td>3</td>\n      <td>1</td>\n    </tr>\n    <tr>\n      <th>3</th>\n      <td>ell</td>\n      <td>-1</td>\n      <td>1</td>\n      <td>2</td>\n      <td>3</td>\n      <td>0</td>\n    </tr>\n    <tr>\n      <th>4</th>\n      <td>era</td>\n      <td>-1</td>\n      <td>2</td>\n      <td>1</td>\n      <td>3</td>\n      <td>0</td>\n    </tr>\n    <tr>\n      <th>...</th>\n      <td>...</td>\n      <td>...</td>\n      <td>...</td>\n      <td>...</td>\n      <td>...</td>\n      <td>...</td>\n    </tr>\n    <tr>\n      <th>1971</th>\n      <td>nose</td>\n      <td>1</td>\n      <td>2</td>\n      <td>2</td>\n      <td>4</td>\n      <td>0</td>\n    </tr>\n    <tr>\n      <th>1972</th>\n      <td>plural</td>\n      <td>1</td>\n      <td>2</td>\n      <td>4</td>\n      <td>6</td>\n      <td>0</td>\n    </tr>\n    <tr>\n      <th>1973</th>\n      <td>anger</td>\n      <td>1</td>\n      <td>2</td>\n      <td>3</td>\n      <td>5</td>\n      <td>0</td>\n    </tr>\n    <tr>\n      <th>1974</th>\n      <td>claim</td>\n      <td>1</td>\n      <td>2</td>\n      <td>3</td>\n      <td>5</td>\n      <td>1</td>\n    </tr>\n    <tr>\n      <th>1975</th>\n      <td>continent</td>\n      <td>1</td>\n      <td>3</td>\n      <td>6</td>\n      <td>9</td>\n      <td>0</td>\n    </tr>\n  </tbody>\n</table>\n<p>1976 rows × 6 columns</p>\n</div>"
     },
     "execution_count": 74,
     "metadata": {},
     "output_type": "execute_result"
    }
   ],
   "source": [
    "df_idiomas1['conjuntosVocales']=function.count_sets_(df_idiomas1['palabra'],\"aeiou\")\n",
    "df_idiomas1"
   ],
   "metadata": {
    "collapsed": false
   }
  },
  {
   "cell_type": "markdown",
   "source": [
    "#### Primer modelo\n",
    "En primer lugar, realizaremos una copia del dataset para no sobreescribir o perder datos. Al nuevo conjunto vamos a eliminarle la columna palabra, usando la función [**drop()**](https://pandas.pydata.org/pandas-docs/stable/reference/api/pandas.DataFrame.drop.html) y lo dividiremos en X que contendrá el conjunto de características que hemos extraído anteriormente, e y que contendrá la etiqueta correspondiente a cada muestra."
   ],
   "metadata": {
    "collapsed": false
   }
  },
  {
   "cell_type": "code",
   "execution_count": 75,
   "outputs": [],
   "source": [
    "df_entrenamiento1 = df_idiomas1.copy()\n",
    "df_entrenamiento1=df_entrenamiento1.drop('palabra',axis=1)\n",
    "y=df_entrenamiento1['idioma']\n",
    "X=df_entrenamiento1.drop('idioma',axis=1)"
   ],
   "metadata": {
    "collapsed": false
   }
  },
  {
   "cell_type": "markdown",
   "source": [],
   "metadata": {
    "collapsed": false
   }
  },
  {
   "cell_type": "markdown",
   "source": [
    "Dividimos X e y en datos de entrenamiento y de test, *usando [**train_test_split()**](https://scikit-learn.org/stable/modules/generated/sklearn.model_selection.train_test_split.html) que nos permite dividir entre test y train*, y construimos el modelo **svm**, para esto usaremos [**SVC()**](https://scikit-learn.org/stable/modules/generated/sklearn.svm.SVC.html) que nos permite crear el modelo, y las funciones [**fit()**](https://scikit-learn.org/stable/modules/generated/sklearn.svm.SVC.html#sklearn.svm.SVC.fit), para entrenar el modelo usando los conjuntos de entrenamientos y [**predict()**](https://scikit-learn.org/stable/modules/generated/sklearn.svm.SVC.html#sklearn.svm.SVC.predict), para hacer la clasificación.\n",
    "Una vez observados los resultados,*conseguidos a partir de [**classification_report**](https://scikit-learn.org/stable/modules/generated/sklearn.metrics.classification_report.html)*, comentaremos las conclusiones al respecto."
   ],
   "metadata": {
    "collapsed": false
   }
  },
  {
   "cell_type": "code",
   "execution_count": 76,
   "outputs": [
    {
     "name": "stdout",
     "output_type": "stream",
     "text": [
      "              precision    recall  f1-score   support\n",
      "\n",
      "     Catalán       0.64      0.68      0.66       331\n",
      "      Inglés       0.65      0.60      0.62       322\n",
      "\n",
      "    accuracy                           0.64       653\n",
      "   macro avg       0.64      0.64      0.64       653\n",
      "weighted avg       0.64      0.64      0.64       653\n",
      "\n"
     ]
    }
   ],
   "source": [
    "X_train, X_test, y_train, y_test = train_test_split(X, y, test_size=0.33, random_state=42)\n",
    "svm = SVC(C=1.0, kernel='linear')\n",
    "svm.fit(X_train, y_train)\n",
    "y_predicted = svm.predict(X_test)\n",
    "print(classification_report(y_test, y_predicted, target_names=[\"Catalán\",\"Inglés\"]))\n",
    "res_cat.append(0.64)\n",
    "res_ing.append(0.65)\n",
    "res_glo.append(0.64)"
   ],
   "metadata": {
    "collapsed": false
   }
  },
  {
   "cell_type": "markdown",
   "source": [
    "#### Conclusión de la primera iteración\n",
    "Para comprobar el funcionamiento del modelo hemos decidido que nos basaremos en la precisión como métrica de clasificación, ya que lo que nos interesa es comprobar el porcentaje total de elementos clasificados correctamente. Teniendo en cuenta que las características que habíamos escogido para este primer modelo eran bastante genéricas, creemos que los resultados obtenidos son buenos con un **0.64** de precisión para las palabras en catalán y un **0.65** para las palabras en inglés, es decir, nuestro modelo de clasificación ya es capaz de clasificar bien aproximadamente **16 de cada 25 palabras**, y como hemos comentado anteriormente las características no recogen rasgos de ninguno de los dos idiomas, sino que son características comunes a todos los idiomas. Es probable que con estas características pudiésemos predecir con resultados similares más idiomas además de estos dos."
   ],
   "metadata": {
    "collapsed": false
   }
  },
  {
   "cell_type": "markdown",
   "source": [
    "## SEGUNDA ITERACIÓN\n",
    "Para esta nueva iteración hemos decidido introducir algunas características que sean propias de cada uno de los idiomas del problema, ya que con las anteriores que eran muy generales hemos conseguido resultados aceptables, queremos probar introduciendo algunas más concretas para ver si estas mejoran notablemente los resultados anteriores. Las nuevas características serán las siguientes:\n",
    "- **Accent**: Variable binaria 0 si la palabra no tiene acento, 1 si lo tiene.\n",
    "- **th**: Variable binaria 0 si la palabra no contiene th, 1 si lo contiene.\n",
    "- **num_w**: Número total de veces que aparece la letra W en una muestra.\n",
    "- **max_distance_vocales**: Distancia máxima entre dos vocales en una muestra.\n",
    "- **max_distance_cons**: Distancia máxima entre dos consonantes en una muestra.\n",
    "- **ç**: Variable binaria 0 si la palabra no contiene Ç, 1 si la contiene.\n",
    "- **num_y**: Número total de veces que aparece la letra Y en una muestra.\n",
    "\n",
    "Esta ha sido nuestra selección de características para esta segunda iteración, hemos tenido en cuenta que en el idioma inglés no existen los **acentos**, por lo tanto, si una palabra tiene acento seguro que será catalana, lo mismo sucede con la **Ç**, ya que es un carácter que no existe en el inglés. En cuanto al inglés, hemos decidido seleccionar la aparición de los caracteres **t** y **h** consecutivamente, porque conocemos bastantes palabras que contienen th en inglés pero ninguna en catalán. También hemos querido introducir algunas características que podrían ser generales, pero que hemos considerado que pueden ayudarnos a obtener mejores resultados, como son el número de **y** y **w**, porque creemos que son dos letras bastante frecuentes en el inglés, aunque como ya hemos dicho esta característica son algo más generales que las anteriores. Finalmente, tenemos la **distancia máxima entre vocales y consonantes**, de nuevo esta característica podría ser general a cualquier idioma, aunque las hemos seleccionado porque pensamos que en catalan existen más palabras con varias vocales consecutivas, mientras que en el inglés sucede lo mismo con las consonantes. Ahora comprobaremos si nuestras suposiciones han sido correctas."
   ],
   "metadata": {
    "collapsed": false
   }
  },
  {
   "cell_type": "code",
   "execution_count": 77,
   "outputs": [],
   "source": [
    "df_idiomas2 = df_idiomas1.copy()"
   ],
   "metadata": {
    "collapsed": false
   }
  },
  {
   "cell_type": "markdown",
   "source": [
    "*Comprobamos si las palabras contienen al menos un acento, para esto usamos nuestra función **contains_accent()***"
   ],
   "metadata": {
    "collapsed": false
   }
  },
  {
   "cell_type": "code",
   "execution_count": 78,
   "outputs": [
    {
     "data": {
      "text/plain": "  palabra  idioma  num_vocales  num_cons  longitud  conjuntosVocales  Accent\n0     com      -1            1         2         3                 0       0\n1    seva      -1            2         2         4                 0       0\n2     que      -1            2         1         3                 1       0\n3     ell      -1            1         2         3                 0       0\n4     era      -1            2         1         3                 0       0",
      "text/html": "<div>\n<style scoped>\n    .dataframe tbody tr th:only-of-type {\n        vertical-align: middle;\n    }\n\n    .dataframe tbody tr th {\n        vertical-align: top;\n    }\n\n    .dataframe thead th {\n        text-align: right;\n    }\n</style>\n<table border=\"1\" class=\"dataframe\">\n  <thead>\n    <tr style=\"text-align: right;\">\n      <th></th>\n      <th>palabra</th>\n      <th>idioma</th>\n      <th>num_vocales</th>\n      <th>num_cons</th>\n      <th>longitud</th>\n      <th>conjuntosVocales</th>\n      <th>Accent</th>\n    </tr>\n  </thead>\n  <tbody>\n    <tr>\n      <th>0</th>\n      <td>com</td>\n      <td>-1</td>\n      <td>1</td>\n      <td>2</td>\n      <td>3</td>\n      <td>0</td>\n      <td>0</td>\n    </tr>\n    <tr>\n      <th>1</th>\n      <td>seva</td>\n      <td>-1</td>\n      <td>2</td>\n      <td>2</td>\n      <td>4</td>\n      <td>0</td>\n      <td>0</td>\n    </tr>\n    <tr>\n      <th>2</th>\n      <td>que</td>\n      <td>-1</td>\n      <td>2</td>\n      <td>1</td>\n      <td>3</td>\n      <td>1</td>\n      <td>0</td>\n    </tr>\n    <tr>\n      <th>3</th>\n      <td>ell</td>\n      <td>-1</td>\n      <td>1</td>\n      <td>2</td>\n      <td>3</td>\n      <td>0</td>\n      <td>0</td>\n    </tr>\n    <tr>\n      <th>4</th>\n      <td>era</td>\n      <td>-1</td>\n      <td>2</td>\n      <td>1</td>\n      <td>3</td>\n      <td>0</td>\n      <td>0</td>\n    </tr>\n  </tbody>\n</table>\n</div>"
     },
     "execution_count": 78,
     "metadata": {},
     "output_type": "execute_result"
    }
   ],
   "source": [
    "have_Accent =[]\n",
    "for i in range(len(df_idiomas2)):\n",
    "  have_Accent.append(function.contains_accent(df_idiomas2.iloc[i]['palabra'])) #Comprobamos si la palabra tiene acento\n",
    "df_idiomas2['Accent']=have_Accent\n",
    "df_idiomas2.head(5)"
   ],
   "metadata": {
    "collapsed": false
   }
  },
  {
   "cell_type": "markdown",
   "source": [
    "*Se comprueba mediante nuestra función **contains_()** si las palabras contienen la secuencia **th***"
   ],
   "metadata": {
    "collapsed": false
   }
  },
  {
   "cell_type": "code",
   "execution_count": 79,
   "outputs": [
    {
     "data": {
      "text/plain": "        palabra  idioma  num_vocales  num_cons  longitud  conjuntosVocales  \\\n1971       nose       1            2         2         4                 0   \n1972     plural       1            2         4         6                 0   \n1973      anger       1            2         3         5                 0   \n1974      claim       1            2         3         5                 1   \n1975  continent       1            3         6         9                 0   \n\n      Accent  th  \n1971       0   0  \n1972       0   0  \n1973       0   0  \n1974       0   0  \n1975       0   0  ",
      "text/html": "<div>\n<style scoped>\n    .dataframe tbody tr th:only-of-type {\n        vertical-align: middle;\n    }\n\n    .dataframe tbody tr th {\n        vertical-align: top;\n    }\n\n    .dataframe thead th {\n        text-align: right;\n    }\n</style>\n<table border=\"1\" class=\"dataframe\">\n  <thead>\n    <tr style=\"text-align: right;\">\n      <th></th>\n      <th>palabra</th>\n      <th>idioma</th>\n      <th>num_vocales</th>\n      <th>num_cons</th>\n      <th>longitud</th>\n      <th>conjuntosVocales</th>\n      <th>Accent</th>\n      <th>th</th>\n    </tr>\n  </thead>\n  <tbody>\n    <tr>\n      <th>1971</th>\n      <td>nose</td>\n      <td>1</td>\n      <td>2</td>\n      <td>2</td>\n      <td>4</td>\n      <td>0</td>\n      <td>0</td>\n      <td>0</td>\n    </tr>\n    <tr>\n      <th>1972</th>\n      <td>plural</td>\n      <td>1</td>\n      <td>2</td>\n      <td>4</td>\n      <td>6</td>\n      <td>0</td>\n      <td>0</td>\n      <td>0</td>\n    </tr>\n    <tr>\n      <th>1973</th>\n      <td>anger</td>\n      <td>1</td>\n      <td>2</td>\n      <td>3</td>\n      <td>5</td>\n      <td>0</td>\n      <td>0</td>\n      <td>0</td>\n    </tr>\n    <tr>\n      <th>1974</th>\n      <td>claim</td>\n      <td>1</td>\n      <td>2</td>\n      <td>3</td>\n      <td>5</td>\n      <td>1</td>\n      <td>0</td>\n      <td>0</td>\n    </tr>\n    <tr>\n      <th>1975</th>\n      <td>continent</td>\n      <td>1</td>\n      <td>3</td>\n      <td>6</td>\n      <td>9</td>\n      <td>0</td>\n      <td>0</td>\n      <td>0</td>\n    </tr>\n  </tbody>\n</table>\n</div>"
     },
     "execution_count": 79,
     "metadata": {},
     "output_type": "execute_result"
    }
   ],
   "source": [
    "df_idiomas2['th']=function.contains_(data=df_idiomas2['palabra'],search_term='th') #Comprobamos si contiene la secuencia 'th'\n",
    "df_idiomas2.tail(5)"
   ],
   "metadata": {
    "collapsed": false
   }
  },
  {
   "cell_type": "markdown",
   "source": [
    "*Contamos la cantidad de **w** que contienen las palabras, usando **count_chars***"
   ],
   "metadata": {
    "collapsed": false
   }
  },
  {
   "cell_type": "code",
   "execution_count": 80,
   "outputs": [
    {
     "data": {
      "text/plain": "        palabra  idioma  num_vocales  num_cons  longitud  conjuntosVocales  \\\n1971       nose       1            2         2         4                 0   \n1972     plural       1            2         4         6                 0   \n1973      anger       1            2         3         5                 0   \n1974      claim       1            2         3         5                 1   \n1975  continent       1            3         6         9                 0   \n\n      Accent  th  num_w  \n1971       0   0      0  \n1972       0   0      0  \n1973       0   0      0  \n1974       0   0      0  \n1975       0   0      0  ",
      "text/html": "<div>\n<style scoped>\n    .dataframe tbody tr th:only-of-type {\n        vertical-align: middle;\n    }\n\n    .dataframe tbody tr th {\n        vertical-align: top;\n    }\n\n    .dataframe thead th {\n        text-align: right;\n    }\n</style>\n<table border=\"1\" class=\"dataframe\">\n  <thead>\n    <tr style=\"text-align: right;\">\n      <th></th>\n      <th>palabra</th>\n      <th>idioma</th>\n      <th>num_vocales</th>\n      <th>num_cons</th>\n      <th>longitud</th>\n      <th>conjuntosVocales</th>\n      <th>Accent</th>\n      <th>th</th>\n      <th>num_w</th>\n    </tr>\n  </thead>\n  <tbody>\n    <tr>\n      <th>1971</th>\n      <td>nose</td>\n      <td>1</td>\n      <td>2</td>\n      <td>2</td>\n      <td>4</td>\n      <td>0</td>\n      <td>0</td>\n      <td>0</td>\n      <td>0</td>\n    </tr>\n    <tr>\n      <th>1972</th>\n      <td>plural</td>\n      <td>1</td>\n      <td>2</td>\n      <td>4</td>\n      <td>6</td>\n      <td>0</td>\n      <td>0</td>\n      <td>0</td>\n      <td>0</td>\n    </tr>\n    <tr>\n      <th>1973</th>\n      <td>anger</td>\n      <td>1</td>\n      <td>2</td>\n      <td>3</td>\n      <td>5</td>\n      <td>0</td>\n      <td>0</td>\n      <td>0</td>\n      <td>0</td>\n    </tr>\n    <tr>\n      <th>1974</th>\n      <td>claim</td>\n      <td>1</td>\n      <td>2</td>\n      <td>3</td>\n      <td>5</td>\n      <td>1</td>\n      <td>0</td>\n      <td>0</td>\n      <td>0</td>\n    </tr>\n    <tr>\n      <th>1975</th>\n      <td>continent</td>\n      <td>1</td>\n      <td>3</td>\n      <td>6</td>\n      <td>9</td>\n      <td>0</td>\n      <td>0</td>\n      <td>0</td>\n      <td>0</td>\n    </tr>\n  </tbody>\n</table>\n</div>"
     },
     "execution_count": 80,
     "metadata": {},
     "output_type": "execute_result"
    }
   ],
   "source": [
    "df_idiomas2['num_w']=function.count_chars(data=df_idiomas2['palabra'],search_term='w')\n",
    "df_idiomas2.tail(5)"
   ],
   "metadata": {
    "collapsed": false
   }
  },
  {
   "cell_type": "markdown",
   "source": [
    "*Calculamos la distancia máxima entre las vocales de una palabra, usaremos nuestra propia función **distance_between_chars_()**, que calcula esta distancia para vocales y para consonantes dependiendo de lo que le pasemos por parametro*"
   ],
   "metadata": {
    "collapsed": false
   }
  },
  {
   "cell_type": "code",
   "execution_count": 81,
   "outputs": [
    {
     "data": {
      "text/plain": "  palabra  idioma  num_vocales  num_cons  longitud  conjuntosVocales  Accent  \\\n0     com      -1            1         2         3                 0       0   \n1    seva      -1            2         2         4                 0       0   \n2     que      -1            2         1         3                 1       0   \n3     ell      -1            1         2         3                 0       0   \n4     era      -1            2         1         3                 0       0   \n\n   th  num_w  max_distance_vocales  \n0   0      0                     0  \n1   0      0                     1  \n2   0      0                     0  \n3   0      0                     0  \n4   0      0                     1  ",
      "text/html": "<div>\n<style scoped>\n    .dataframe tbody tr th:only-of-type {\n        vertical-align: middle;\n    }\n\n    .dataframe tbody tr th {\n        vertical-align: top;\n    }\n\n    .dataframe thead th {\n        text-align: right;\n    }\n</style>\n<table border=\"1\" class=\"dataframe\">\n  <thead>\n    <tr style=\"text-align: right;\">\n      <th></th>\n      <th>palabra</th>\n      <th>idioma</th>\n      <th>num_vocales</th>\n      <th>num_cons</th>\n      <th>longitud</th>\n      <th>conjuntosVocales</th>\n      <th>Accent</th>\n      <th>th</th>\n      <th>num_w</th>\n      <th>max_distance_vocales</th>\n    </tr>\n  </thead>\n  <tbody>\n    <tr>\n      <th>0</th>\n      <td>com</td>\n      <td>-1</td>\n      <td>1</td>\n      <td>2</td>\n      <td>3</td>\n      <td>0</td>\n      <td>0</td>\n      <td>0</td>\n      <td>0</td>\n      <td>0</td>\n    </tr>\n    <tr>\n      <th>1</th>\n      <td>seva</td>\n      <td>-1</td>\n      <td>2</td>\n      <td>2</td>\n      <td>4</td>\n      <td>0</td>\n      <td>0</td>\n      <td>0</td>\n      <td>0</td>\n      <td>1</td>\n    </tr>\n    <tr>\n      <th>2</th>\n      <td>que</td>\n      <td>-1</td>\n      <td>2</td>\n      <td>1</td>\n      <td>3</td>\n      <td>1</td>\n      <td>0</td>\n      <td>0</td>\n      <td>0</td>\n      <td>0</td>\n    </tr>\n    <tr>\n      <th>3</th>\n      <td>ell</td>\n      <td>-1</td>\n      <td>1</td>\n      <td>2</td>\n      <td>3</td>\n      <td>0</td>\n      <td>0</td>\n      <td>0</td>\n      <td>0</td>\n      <td>0</td>\n    </tr>\n    <tr>\n      <th>4</th>\n      <td>era</td>\n      <td>-1</td>\n      <td>2</td>\n      <td>1</td>\n      <td>3</td>\n      <td>0</td>\n      <td>0</td>\n      <td>0</td>\n      <td>0</td>\n      <td>1</td>\n    </tr>\n  </tbody>\n</table>\n</div>"
     },
     "execution_count": 81,
     "metadata": {},
     "output_type": "execute_result"
    }
   ],
   "source": [
    "df_idiomas2['max_distance_vocales'] = function.distance_between_chars_(data=df_idiomas2['palabra'],vowel=True)\n",
    "df_idiomas2.head(5)"
   ],
   "metadata": {
    "collapsed": false
   }
  },
  {
   "cell_type": "markdown",
   "source": [
    "*Calculamos la distancia máxima entre las consonantes de una palabra*"
   ],
   "metadata": {
    "collapsed": false
   }
  },
  {
   "cell_type": "code",
   "execution_count": 82,
   "outputs": [
    {
     "data": {
      "text/plain": "  palabra  idioma  num_vocales  num_cons  longitud  conjuntosVocales  Accent  \\\n0     com      -1            1         2         3                 0       0   \n1    seva      -1            2         2         4                 0       0   \n2     que      -1            2         1         3                 1       0   \n3     ell      -1            1         2         3                 0       0   \n4     era      -1            2         1         3                 0       0   \n\n   th  num_w  max_distance_vocales  max_distance_cons  \n0   0      0                     0                  1  \n1   0      0                     1                  1  \n2   0      0                     0                  0  \n3   0      0                     0                  0  \n4   0      0                     1                  0  ",
      "text/html": "<div>\n<style scoped>\n    .dataframe tbody tr th:only-of-type {\n        vertical-align: middle;\n    }\n\n    .dataframe tbody tr th {\n        vertical-align: top;\n    }\n\n    .dataframe thead th {\n        text-align: right;\n    }\n</style>\n<table border=\"1\" class=\"dataframe\">\n  <thead>\n    <tr style=\"text-align: right;\">\n      <th></th>\n      <th>palabra</th>\n      <th>idioma</th>\n      <th>num_vocales</th>\n      <th>num_cons</th>\n      <th>longitud</th>\n      <th>conjuntosVocales</th>\n      <th>Accent</th>\n      <th>th</th>\n      <th>num_w</th>\n      <th>max_distance_vocales</th>\n      <th>max_distance_cons</th>\n    </tr>\n  </thead>\n  <tbody>\n    <tr>\n      <th>0</th>\n      <td>com</td>\n      <td>-1</td>\n      <td>1</td>\n      <td>2</td>\n      <td>3</td>\n      <td>0</td>\n      <td>0</td>\n      <td>0</td>\n      <td>0</td>\n      <td>0</td>\n      <td>1</td>\n    </tr>\n    <tr>\n      <th>1</th>\n      <td>seva</td>\n      <td>-1</td>\n      <td>2</td>\n      <td>2</td>\n      <td>4</td>\n      <td>0</td>\n      <td>0</td>\n      <td>0</td>\n      <td>0</td>\n      <td>1</td>\n      <td>1</td>\n    </tr>\n    <tr>\n      <th>2</th>\n      <td>que</td>\n      <td>-1</td>\n      <td>2</td>\n      <td>1</td>\n      <td>3</td>\n      <td>1</td>\n      <td>0</td>\n      <td>0</td>\n      <td>0</td>\n      <td>0</td>\n      <td>0</td>\n    </tr>\n    <tr>\n      <th>3</th>\n      <td>ell</td>\n      <td>-1</td>\n      <td>1</td>\n      <td>2</td>\n      <td>3</td>\n      <td>0</td>\n      <td>0</td>\n      <td>0</td>\n      <td>0</td>\n      <td>0</td>\n      <td>0</td>\n    </tr>\n    <tr>\n      <th>4</th>\n      <td>era</td>\n      <td>-1</td>\n      <td>2</td>\n      <td>1</td>\n      <td>3</td>\n      <td>0</td>\n      <td>0</td>\n      <td>0</td>\n      <td>0</td>\n      <td>1</td>\n      <td>0</td>\n    </tr>\n  </tbody>\n</table>\n</div>"
     },
     "execution_count": 82,
     "metadata": {},
     "output_type": "execute_result"
    }
   ],
   "source": [
    "df_idiomas2['max_distance_cons'] = function.distance_between_chars_(data=df_idiomas2['palabra'],vowel=False)\n",
    "df_idiomas2.head(5)"
   ],
   "metadata": {
    "collapsed": false
   }
  },
  {
   "cell_type": "markdown",
   "source": [
    "*Comprobamos si contiene **ç***"
   ],
   "metadata": {
    "collapsed": false
   }
  },
  {
   "cell_type": "code",
   "execution_count": 83,
   "outputs": [
    {
     "data": {
      "text/plain": "  palabra  idioma  num_vocales  num_cons  longitud  conjuntosVocales  Accent  \\\n0     com      -1            1         2         3                 0       0   \n1    seva      -1            2         2         4                 0       0   \n2     que      -1            2         1         3                 1       0   \n3     ell      -1            1         2         3                 0       0   \n4     era      -1            2         1         3                 0       0   \n\n   th  num_w  max_distance_vocales  max_distance_cons  ç  \n0   0      0                     0                  1  0  \n1   0      0                     1                  1  0  \n2   0      0                     0                  0  0  \n3   0      0                     0                  0  0  \n4   0      0                     1                  0  0  ",
      "text/html": "<div>\n<style scoped>\n    .dataframe tbody tr th:only-of-type {\n        vertical-align: middle;\n    }\n\n    .dataframe tbody tr th {\n        vertical-align: top;\n    }\n\n    .dataframe thead th {\n        text-align: right;\n    }\n</style>\n<table border=\"1\" class=\"dataframe\">\n  <thead>\n    <tr style=\"text-align: right;\">\n      <th></th>\n      <th>palabra</th>\n      <th>idioma</th>\n      <th>num_vocales</th>\n      <th>num_cons</th>\n      <th>longitud</th>\n      <th>conjuntosVocales</th>\n      <th>Accent</th>\n      <th>th</th>\n      <th>num_w</th>\n      <th>max_distance_vocales</th>\n      <th>max_distance_cons</th>\n      <th>ç</th>\n    </tr>\n  </thead>\n  <tbody>\n    <tr>\n      <th>0</th>\n      <td>com</td>\n      <td>-1</td>\n      <td>1</td>\n      <td>2</td>\n      <td>3</td>\n      <td>0</td>\n      <td>0</td>\n      <td>0</td>\n      <td>0</td>\n      <td>0</td>\n      <td>1</td>\n      <td>0</td>\n    </tr>\n    <tr>\n      <th>1</th>\n      <td>seva</td>\n      <td>-1</td>\n      <td>2</td>\n      <td>2</td>\n      <td>4</td>\n      <td>0</td>\n      <td>0</td>\n      <td>0</td>\n      <td>0</td>\n      <td>1</td>\n      <td>1</td>\n      <td>0</td>\n    </tr>\n    <tr>\n      <th>2</th>\n      <td>que</td>\n      <td>-1</td>\n      <td>2</td>\n      <td>1</td>\n      <td>3</td>\n      <td>1</td>\n      <td>0</td>\n      <td>0</td>\n      <td>0</td>\n      <td>0</td>\n      <td>0</td>\n      <td>0</td>\n    </tr>\n    <tr>\n      <th>3</th>\n      <td>ell</td>\n      <td>-1</td>\n      <td>1</td>\n      <td>2</td>\n      <td>3</td>\n      <td>0</td>\n      <td>0</td>\n      <td>0</td>\n      <td>0</td>\n      <td>0</td>\n      <td>0</td>\n      <td>0</td>\n    </tr>\n    <tr>\n      <th>4</th>\n      <td>era</td>\n      <td>-1</td>\n      <td>2</td>\n      <td>1</td>\n      <td>3</td>\n      <td>0</td>\n      <td>0</td>\n      <td>0</td>\n      <td>0</td>\n      <td>1</td>\n      <td>0</td>\n      <td>0</td>\n    </tr>\n  </tbody>\n</table>\n</div>"
     },
     "execution_count": 83,
     "metadata": {},
     "output_type": "execute_result"
    }
   ],
   "source": [
    "df_idiomas2['ç']=function.contains_(data=df_idiomas2['palabra'],search_term='ç')\n",
    "df_idiomas2.head(5)"
   ],
   "metadata": {
    "collapsed": false
   }
  },
  {
   "cell_type": "markdown",
   "source": [
    "*Contamos el número de **y***"
   ],
   "metadata": {
    "collapsed": false
   }
  },
  {
   "cell_type": "code",
   "execution_count": 84,
   "outputs": [
    {
     "data": {
      "text/plain": "        palabra  idioma  num_vocales  num_cons  longitud  conjuntosVocales  \\\n1971       nose       1            2         2         4                 0   \n1972     plural       1            2         4         6                 0   \n1973      anger       1            2         3         5                 0   \n1974      claim       1            2         3         5                 1   \n1975  continent       1            3         6         9                 0   \n\n      Accent  th  num_w  max_distance_vocales  max_distance_cons  ç  num_y  \n1971       0   0      0                     1                  1  0      0  \n1972       0   0      0                     1                  1  0      0  \n1973       0   0      0                     2                  1  0      0  \n1974       0   0      0                     0                  2  0      0  \n1975       0   0      0                     2                  1  0      0  ",
      "text/html": "<div>\n<style scoped>\n    .dataframe tbody tr th:only-of-type {\n        vertical-align: middle;\n    }\n\n    .dataframe tbody tr th {\n        vertical-align: top;\n    }\n\n    .dataframe thead th {\n        text-align: right;\n    }\n</style>\n<table border=\"1\" class=\"dataframe\">\n  <thead>\n    <tr style=\"text-align: right;\">\n      <th></th>\n      <th>palabra</th>\n      <th>idioma</th>\n      <th>num_vocales</th>\n      <th>num_cons</th>\n      <th>longitud</th>\n      <th>conjuntosVocales</th>\n      <th>Accent</th>\n      <th>th</th>\n      <th>num_w</th>\n      <th>max_distance_vocales</th>\n      <th>max_distance_cons</th>\n      <th>ç</th>\n      <th>num_y</th>\n    </tr>\n  </thead>\n  <tbody>\n    <tr>\n      <th>1971</th>\n      <td>nose</td>\n      <td>1</td>\n      <td>2</td>\n      <td>2</td>\n      <td>4</td>\n      <td>0</td>\n      <td>0</td>\n      <td>0</td>\n      <td>0</td>\n      <td>1</td>\n      <td>1</td>\n      <td>0</td>\n      <td>0</td>\n    </tr>\n    <tr>\n      <th>1972</th>\n      <td>plural</td>\n      <td>1</td>\n      <td>2</td>\n      <td>4</td>\n      <td>6</td>\n      <td>0</td>\n      <td>0</td>\n      <td>0</td>\n      <td>0</td>\n      <td>1</td>\n      <td>1</td>\n      <td>0</td>\n      <td>0</td>\n    </tr>\n    <tr>\n      <th>1973</th>\n      <td>anger</td>\n      <td>1</td>\n      <td>2</td>\n      <td>3</td>\n      <td>5</td>\n      <td>0</td>\n      <td>0</td>\n      <td>0</td>\n      <td>0</td>\n      <td>2</td>\n      <td>1</td>\n      <td>0</td>\n      <td>0</td>\n    </tr>\n    <tr>\n      <th>1974</th>\n      <td>claim</td>\n      <td>1</td>\n      <td>2</td>\n      <td>3</td>\n      <td>5</td>\n      <td>1</td>\n      <td>0</td>\n      <td>0</td>\n      <td>0</td>\n      <td>0</td>\n      <td>2</td>\n      <td>0</td>\n      <td>0</td>\n    </tr>\n    <tr>\n      <th>1975</th>\n      <td>continent</td>\n      <td>1</td>\n      <td>3</td>\n      <td>6</td>\n      <td>9</td>\n      <td>0</td>\n      <td>0</td>\n      <td>0</td>\n      <td>0</td>\n      <td>2</td>\n      <td>1</td>\n      <td>0</td>\n      <td>0</td>\n    </tr>\n  </tbody>\n</table>\n</div>"
     },
     "execution_count": 84,
     "metadata": {},
     "output_type": "execute_result"
    }
   ],
   "source": [
    "df_idiomas2['num_y']=function.count_chars(data=df_idiomas2['palabra'],search_term='y')\n",
    "df_idiomas2.tail(5)"
   ],
   "metadata": {
    "collapsed": false
   }
  },
  {
   "cell_type": "markdown",
   "source": [
    "#### Segundo modelo\n",
    "Del mismo modo que con el primer modelo, hacemos una copia del dataset para no sobreescribir o perder datos. Eliminamos de nuevo la columna palabra y lo dividiremos en X que contendrá el conjunto de características que hemos extraído anteriormente junto con las del primer modelo, e y que contendrá la etiqueta correspondiente a cada muestra."
   ],
   "metadata": {
    "collapsed": false
   }
  },
  {
   "cell_type": "code",
   "execution_count": 85,
   "outputs": [],
   "source": [
    "df_entrenamiento2 = df_idiomas2.copy()\n",
    "df_entrenamiento2=df_entrenamiento2.drop('palabra',axis=1)\n",
    "y=df_entrenamiento2['idioma']\n",
    "X=df_entrenamiento2.drop('idioma',axis=1)"
   ],
   "metadata": {
    "collapsed": false
   }
  },
  {
   "cell_type": "markdown",
   "source": [
    "Dividimos de nuevo X e y en datos de entrenamiento y de test, y construimos el modelo. Una vez observados los resultados comentaremos las conclusiones al respecto."
   ],
   "metadata": {
    "collapsed": false
   }
  },
  {
   "cell_type": "code",
   "execution_count": 86,
   "outputs": [
    {
     "name": "stdout",
     "output_type": "stream",
     "text": [
      "              precision    recall  f1-score   support\n",
      "\n",
      "     Catalán       0.67      0.72      0.69       331\n",
      "      Inglés       0.69      0.63      0.66       322\n",
      "\n",
      "    accuracy                           0.68       653\n",
      "   macro avg       0.68      0.68      0.68       653\n",
      "weighted avg       0.68      0.68      0.68       653\n",
      "\n"
     ]
    }
   ],
   "source": [
    "#cambiar a svm2 para ir guardando los modelos para compraralos en la conclusion o algo\n",
    "X_train, X_test, y_train, y_test = train_test_split(X, y, test_size=0.33, random_state=42)\n",
    "svm2 = SVC(C=1.0, kernel='linear')\n",
    "svm2.fit(X_train, y_train)\n",
    "y_predicted2 = svm2.predict(X_test)\n",
    "print(classification_report(y_test, y_predicted2, target_names=[\"Catalán\",\"Inglés\"]))\n",
    "res_cat.append(0.67)\n",
    "res_ing.append(0.69)\n",
    "res_glo.append(0.68)"
   ],
   "metadata": {
    "collapsed": false
   }
  },
  {
   "cell_type": "markdown",
   "source": [
    "#### Conclusión de la segunda iteración\n",
    "Al parecer nuestras suposiciones no han dado los resultados que esperábamos, a pesar de que estamos seguros de que las características que hemos seleccionado si son representativas de ambos lenguajes, vemos como la precisión apenas ha mejorado. Esto puede ser debido a varios factores, aunque creemos que el principal y más probable puede ser que a pesar de que algunas de las características como los acentos o la Ç son únicos en este caso del catalán, y el th podría ser representativo del inglés, al tener tan solo 1000 muestras de cada se puede dar el caso de que estas características apenas aparezcan en el dataset y, por lo tanto, apenas aporten información. A continuación veremos como comprobar si es así y tomaremos decisiones al respecto."
   ],
   "metadata": {
    "collapsed": false
   }
  },
  {
   "cell_type": "markdown",
   "source": [
    "## TERCERA ITERACIÓN\n",
    "\n",
    "En esta iteración empezaremos eliminando todas aquellas características de la iteración anterior, que como hemos explicado antes no aportan apenas información. Ahora bien ¿cómo sabemos cuáles son esas características?.\n",
    "\n",
    "Partimos de la conclusión final de la iteración anterior, **como no hay muchas muestras y las características son muy específicas de un idioma entonces nos aportan poca información**.\n",
    "Si recordamos estamos ante un problema de clasificación, y para resolver esto hay que conseguir características que consigan diferenciar las muestras, es decir que si una característica nos proporciona la misma información repetida a lo largo de todas las muestras no nos permitirá diferenciar las muestras, es decir que será una mala característica porque nos aporta poca información. Por lo tanto, hay que eliminar aquellas características que tienen muchos valores repetidos.\n",
    "Para esto hay definir que es tener muchos valores repetidos, en nuestro caso partiremos de que si una columna tiene un porcentaje **superior a 95** de datos repetidos entonces será una característica a eliminar."
   ],
   "metadata": {
    "collapsed": false
   }
  },
  {
   "cell_type": "markdown",
   "source": [
    "Como la mayoría de características son binarias, miraremos el porcentaje de **0** que tienen, y si es superior al **95%** se elminiará, si ocurre que tienen un porcentaje menor al **5%** significa que tienen un porcentaje superior al **95%** de **unos** y por lo tanto también deberá ser eliminada.\n",
    "\n",
    "Se comprobará para las características de la iteración anterior:\n",
    "- **conjuntosVocales**\n",
    "- **Accent**\n",
    "- **th**\n",
    "- **num_w**\n",
    "- **max_distance_vocales**\n",
    "- **max_distance_cons**\n",
    "- **ç**\n",
    "- **num_y**\n",
    "\n",
    "*Usaremos nuestra propia función **porcentajes()** que comprueba el porcentaje de **0** de las columnas, pasadas por parametro, de un dataset, pasado por parametro.*"
   ],
   "metadata": {
    "collapsed": false
   }
  },
  {
   "cell_type": "code",
   "execution_count": 87,
   "outputs": [
    {
     "data": {
      "text/plain": "   conjuntosVocales    Accent        th    num_w  max_distance_vocales  \\\n0         76.923077  94.02834  97.57085  95.1417             40.941296   \n\n   max_distance_cons          ç      num_y  \n0          10.121457  99.392713  95.394737  ",
      "text/html": "<div>\n<style scoped>\n    .dataframe tbody tr th:only-of-type {\n        vertical-align: middle;\n    }\n\n    .dataframe tbody tr th {\n        vertical-align: top;\n    }\n\n    .dataframe thead th {\n        text-align: right;\n    }\n</style>\n<table border=\"1\" class=\"dataframe\">\n  <thead>\n    <tr style=\"text-align: right;\">\n      <th></th>\n      <th>conjuntosVocales</th>\n      <th>Accent</th>\n      <th>th</th>\n      <th>num_w</th>\n      <th>max_distance_vocales</th>\n      <th>max_distance_cons</th>\n      <th>ç</th>\n      <th>num_y</th>\n    </tr>\n  </thead>\n  <tbody>\n    <tr>\n      <th>0</th>\n      <td>76.923077</td>\n      <td>94.02834</td>\n      <td>97.57085</td>\n      <td>95.1417</td>\n      <td>40.941296</td>\n      <td>10.121457</td>\n      <td>99.392713</td>\n      <td>95.394737</td>\n    </tr>\n  </tbody>\n</table>\n</div>"
     },
     "execution_count": 87,
     "metadata": {},
     "output_type": "execute_result"
    }
   ],
   "source": [
    "columns_names_list = list(df_idiomas2.columns.values[5:df_idiomas2.shape[1]])\n",
    "function.porcentaje(df_idiomas2,columns_names_list)"
   ],
   "metadata": {
    "collapsed": false
   }
  },
  {
   "cell_type": "markdown",
   "source": [
    "En el resultado anterior se puede ver que la característica **th** y **ç** superan un **95%** de ceros. Tanto **num_w** como **num_y** no las hemos contado, ya que son valores muy cercanos al 95 y no los contamos para la eliminación.\n",
    "\n",
    "*Los eliminamos usando la función [**drop()**](https://pandas.pydata.org/pandas-docs/stable/reference/api/pandas.DataFrame.drop.html) sobre una copia del dataset para mantener el dataset limpio.*"
   ],
   "metadata": {
    "collapsed": false
   }
  },
  {
   "cell_type": "code",
   "execution_count": 88,
   "outputs": [
    {
     "data": {
      "text/plain": "  palabra  idioma  num_vocales  num_cons  longitud  conjuntosVocales  Accent  \\\n0     com      -1            1         2         3                 0       0   \n1    seva      -1            2         2         4                 0       0   \n2     que      -1            2         1         3                 1       0   \n3     ell      -1            1         2         3                 0       0   \n4     era      -1            2         1         3                 0       0   \n\n   num_w  max_distance_vocales  max_distance_cons  num_y  \n0      0                     0                  1      0  \n1      0                     1                  1      0  \n2      0                     0                  0      0  \n3      0                     0                  0      0  \n4      0                     1                  0      0  ",
      "text/html": "<div>\n<style scoped>\n    .dataframe tbody tr th:only-of-type {\n        vertical-align: middle;\n    }\n\n    .dataframe tbody tr th {\n        vertical-align: top;\n    }\n\n    .dataframe thead th {\n        text-align: right;\n    }\n</style>\n<table border=\"1\" class=\"dataframe\">\n  <thead>\n    <tr style=\"text-align: right;\">\n      <th></th>\n      <th>palabra</th>\n      <th>idioma</th>\n      <th>num_vocales</th>\n      <th>num_cons</th>\n      <th>longitud</th>\n      <th>conjuntosVocales</th>\n      <th>Accent</th>\n      <th>num_w</th>\n      <th>max_distance_vocales</th>\n      <th>max_distance_cons</th>\n      <th>num_y</th>\n    </tr>\n  </thead>\n  <tbody>\n    <tr>\n      <th>0</th>\n      <td>com</td>\n      <td>-1</td>\n      <td>1</td>\n      <td>2</td>\n      <td>3</td>\n      <td>0</td>\n      <td>0</td>\n      <td>0</td>\n      <td>0</td>\n      <td>1</td>\n      <td>0</td>\n    </tr>\n    <tr>\n      <th>1</th>\n      <td>seva</td>\n      <td>-1</td>\n      <td>2</td>\n      <td>2</td>\n      <td>4</td>\n      <td>0</td>\n      <td>0</td>\n      <td>0</td>\n      <td>1</td>\n      <td>1</td>\n      <td>0</td>\n    </tr>\n    <tr>\n      <th>2</th>\n      <td>que</td>\n      <td>-1</td>\n      <td>2</td>\n      <td>1</td>\n      <td>3</td>\n      <td>1</td>\n      <td>0</td>\n      <td>0</td>\n      <td>0</td>\n      <td>0</td>\n      <td>0</td>\n    </tr>\n    <tr>\n      <th>3</th>\n      <td>ell</td>\n      <td>-1</td>\n      <td>1</td>\n      <td>2</td>\n      <td>3</td>\n      <td>0</td>\n      <td>0</td>\n      <td>0</td>\n      <td>0</td>\n      <td>0</td>\n      <td>0</td>\n    </tr>\n    <tr>\n      <th>4</th>\n      <td>era</td>\n      <td>-1</td>\n      <td>2</td>\n      <td>1</td>\n      <td>3</td>\n      <td>0</td>\n      <td>0</td>\n      <td>0</td>\n      <td>1</td>\n      <td>0</td>\n      <td>0</td>\n    </tr>\n  </tbody>\n</table>\n</div>"
     },
     "execution_count": 88,
     "metadata": {},
     "output_type": "execute_result"
    }
   ],
   "source": [
    "columns_to_drop = ['th','ç']\n",
    "df_idiomas3=df_idiomas2.copy()\n",
    "df_idiomas3=df_idiomas3.drop(columns_to_drop,axis=1)\n",
    "df_idiomas3.head(5)"
   ],
   "metadata": {
    "collapsed": false
   }
  },
  {
   "cell_type": "markdown",
   "source": [
    "Finalmente, esta iteración ha terminado con las siguientes características:\n",
    "- **num_vocales**\n",
    "- **num_cons**\n",
    "- **longitud**\n",
    "- **conjuntosVocales**\n",
    "- **conjuntosVocales**\n",
    "- **Accent**\n",
    "- **num_w**\n",
    "- **max_distance_vocales**\n",
    "- **max_distance_cons**\n",
    "- **num_y**"
   ],
   "metadata": {
    "collapsed": false
   }
  },
  {
   "cell_type": "markdown",
   "source": [
    "#### TERCER MODELO"
   ],
   "metadata": {
    "collapsed": false
   }
  },
  {
   "cell_type": "markdown",
   "source": [
    "Repetimos el procedimiento anterior, creamos una copia del dataset y eliminamos la columna **palabra** y la columna **idioma**"
   ],
   "metadata": {
    "collapsed": false
   }
  },
  {
   "cell_type": "code",
   "execution_count": 89,
   "outputs": [],
   "source": [
    "df_entrenamiento3 = df_idiomas3.copy()\n",
    "df_entrenamiento3 = df_entrenamiento3.drop('palabra', axis=1)\n",
    "y = df_entrenamiento3['idioma']\n",
    "X = df_entrenamiento3.drop('idioma', axis=1)"
   ],
   "metadata": {
    "collapsed": false
   }
  },
  {
   "cell_type": "markdown",
   "source": [
    "Al igual que anteriormente dividimos entre **test** y **train** y construimos el modelo."
   ],
   "metadata": {
    "collapsed": false
   }
  },
  {
   "cell_type": "code",
   "execution_count": 90,
   "outputs": [
    {
     "name": "stdout",
     "output_type": "stream",
     "text": [
      "              precision    recall  f1-score   support\n",
      "\n",
      "     Catalán       0.65      0.74      0.69       331\n",
      "      Inglés       0.69      0.60      0.64       322\n",
      "\n",
      "    accuracy                           0.67       653\n",
      "   macro avg       0.67      0.67      0.67       653\n",
      "weighted avg       0.67      0.67      0.67       653\n",
      "\n"
     ]
    }
   ],
   "source": [
    "X_train, X_test, y_train, y_test = train_test_split(X, y, test_size=0.33, random_state=42)\n",
    "svm3 = SVC(C=1.0, kernel='linear')\n",
    "svm3.fit(X_train, y_train)\n",
    "y_predicted3 = svm3.predict(X_test)\n",
    "print(classification_report(y_test, y_predicted3, target_names=[\"Catalán\",\"Inglés\"]))\n",
    "res_cat.append(0.65)\n",
    "res_ing.append(0.69)\n",
    "res_glo.append(0.67)"
   ],
   "metadata": {
    "collapsed": false
   }
  },
  {
   "cell_type": "markdown",
   "source": [
    "#### Conclusión de la tercera iteración\n",
    "Podemos ver que la precisión se mantiene en el caso de **Inglés** y que baja un poco en el caso de **Catalán**, es decir que podemos dar como cierta nuestra suposición, ya que las características que hemos eliminado apenas nos han variado el resultado y, por lo tanto, estas aportaban poca información. Ahora bien el resultado ha empeorado un poco esto se debe a que aunque aportaban poca información, esa información ayudaba a la hora de clasificar, a pesar de esto daremos este modelo como bueno y, en consecuencia, el criterio de eliminación.\n",
    "\n",
    "Ahora bien ¿se podrá seguir aumentando el resultado para conseguir una precision igual o superior a **0.7**?"
   ],
   "metadata": {
    "collapsed": false
   }
  },
  {
   "cell_type": "markdown",
   "source": [
    "## CUARTA ITERACIÓN\n",
    "\n",
    "En esta iteración vamos a intentar conseguir, como ya hemos mencionado, un resultado superior al **0.7**, para esto hay que tener en cuenta que como hemos visto en la **segunda y tercera iteración** añadir características muy concretas de cada idioma no mejora mucho el resultado, en cambio, las características genéricas de la **primera iteración** ya nos han dado un buen resultado por si solas, así que añadiremos características generales, además como hemos aprobado el criterio de eliminación de características, también haremos uso de este.\n",
    "\n",
    "Estas características hemos decidido que sean todas las letras del abecedario, ya que los idiomas que vamos a clasificar usan el mismo abecedario y, por lo tanto, la aparición de estas letras es general para estos idiomas."
   ],
   "metadata": {
    "collapsed": false
   }
  },
  {
   "cell_type": "markdown",
   "source": [
    "Contamos la aparición de todas las letras del abecedario, excluyendo la letra **w** e **y** porque ya se ha calculado con anterioridad. Dichas caracteristicas se representan como **num_α** siendo α la letra correspondiente."
   ],
   "metadata": {
    "collapsed": false
   }
  },
  {
   "cell_type": "code",
   "execution_count": 91,
   "outputs": [
    {
     "data": {
      "text/plain": "  palabra  idioma  num_vocales  num_cons  longitud  conjuntosVocales  Accent  \\\n0     com      -1            1         2         3                 0       0   \n1    seva      -1            2         2         4                 0       0   \n2     que      -1            2         1         3                 1       0   \n3     ell      -1            1         2         3                 0       0   \n4     era      -1            2         1         3                 0       0   \n\n   num_w  max_distance_vocales  max_distance_cons  ...  num_m  num_n  num_p  \\\n0      0                     0                  1  ...      1      0      0   \n1      0                     1                  1  ...      0      0      0   \n2      0                     0                  0  ...      0      0      0   \n3      0                     0                  0  ...      0      0      0   \n4      0                     1                  0  ...      0      0      0   \n\n   num_q  num_r  num_s  num_t  num_v  num_x  num_z  \n0      0      0      0      0      0      0      0  \n1      0      0      1      0      1      0      0  \n2      1      0      0      0      0      0      0  \n3      0      0      0      0      0      0      0  \n4      0      1      0      0      0      0      0  \n\n[5 rows x 35 columns]",
      "text/html": "<div>\n<style scoped>\n    .dataframe tbody tr th:only-of-type {\n        vertical-align: middle;\n    }\n\n    .dataframe tbody tr th {\n        vertical-align: top;\n    }\n\n    .dataframe thead th {\n        text-align: right;\n    }\n</style>\n<table border=\"1\" class=\"dataframe\">\n  <thead>\n    <tr style=\"text-align: right;\">\n      <th></th>\n      <th>palabra</th>\n      <th>idioma</th>\n      <th>num_vocales</th>\n      <th>num_cons</th>\n      <th>longitud</th>\n      <th>conjuntosVocales</th>\n      <th>Accent</th>\n      <th>num_w</th>\n      <th>max_distance_vocales</th>\n      <th>max_distance_cons</th>\n      <th>...</th>\n      <th>num_m</th>\n      <th>num_n</th>\n      <th>num_p</th>\n      <th>num_q</th>\n      <th>num_r</th>\n      <th>num_s</th>\n      <th>num_t</th>\n      <th>num_v</th>\n      <th>num_x</th>\n      <th>num_z</th>\n    </tr>\n  </thead>\n  <tbody>\n    <tr>\n      <th>0</th>\n      <td>com</td>\n      <td>-1</td>\n      <td>1</td>\n      <td>2</td>\n      <td>3</td>\n      <td>0</td>\n      <td>0</td>\n      <td>0</td>\n      <td>0</td>\n      <td>1</td>\n      <td>...</td>\n      <td>1</td>\n      <td>0</td>\n      <td>0</td>\n      <td>0</td>\n      <td>0</td>\n      <td>0</td>\n      <td>0</td>\n      <td>0</td>\n      <td>0</td>\n      <td>0</td>\n    </tr>\n    <tr>\n      <th>1</th>\n      <td>seva</td>\n      <td>-1</td>\n      <td>2</td>\n      <td>2</td>\n      <td>4</td>\n      <td>0</td>\n      <td>0</td>\n      <td>0</td>\n      <td>1</td>\n      <td>1</td>\n      <td>...</td>\n      <td>0</td>\n      <td>0</td>\n      <td>0</td>\n      <td>0</td>\n      <td>0</td>\n      <td>1</td>\n      <td>0</td>\n      <td>1</td>\n      <td>0</td>\n      <td>0</td>\n    </tr>\n    <tr>\n      <th>2</th>\n      <td>que</td>\n      <td>-1</td>\n      <td>2</td>\n      <td>1</td>\n      <td>3</td>\n      <td>1</td>\n      <td>0</td>\n      <td>0</td>\n      <td>0</td>\n      <td>0</td>\n      <td>...</td>\n      <td>0</td>\n      <td>0</td>\n      <td>0</td>\n      <td>1</td>\n      <td>0</td>\n      <td>0</td>\n      <td>0</td>\n      <td>0</td>\n      <td>0</td>\n      <td>0</td>\n    </tr>\n    <tr>\n      <th>3</th>\n      <td>ell</td>\n      <td>-1</td>\n      <td>1</td>\n      <td>2</td>\n      <td>3</td>\n      <td>0</td>\n      <td>0</td>\n      <td>0</td>\n      <td>0</td>\n      <td>0</td>\n      <td>...</td>\n      <td>0</td>\n      <td>0</td>\n      <td>0</td>\n      <td>0</td>\n      <td>0</td>\n      <td>0</td>\n      <td>0</td>\n      <td>0</td>\n      <td>0</td>\n      <td>0</td>\n    </tr>\n    <tr>\n      <th>4</th>\n      <td>era</td>\n      <td>-1</td>\n      <td>2</td>\n      <td>1</td>\n      <td>3</td>\n      <td>0</td>\n      <td>0</td>\n      <td>0</td>\n      <td>1</td>\n      <td>0</td>\n      <td>...</td>\n      <td>0</td>\n      <td>0</td>\n      <td>0</td>\n      <td>0</td>\n      <td>1</td>\n      <td>0</td>\n      <td>0</td>\n      <td>0</td>\n      <td>0</td>\n      <td>0</td>\n    </tr>\n  </tbody>\n</table>\n<p>5 rows × 35 columns</p>\n</div>"
     },
     "execution_count": 91,
     "metadata": {},
     "output_type": "execute_result"
    }
   ],
   "source": [
    "cadena = \"aeioubcdfghjklmnpqrstvxz\" #quitamos w e y porque ya se han calculado antes\n",
    "df_idiomas4 = df_idiomas3.copy()\n",
    "for caracter in cadena:\n",
    "    columna = 'num_' + caracter\n",
    "    df_idiomas4[columna]=function.count_chars(df_idiomas4['palabra'],caracter)\n",
    "df_idiomas4.head(5)"
   ],
   "metadata": {
    "collapsed": false
   }
  },
  {
   "cell_type": "markdown",
   "source": [
    "Miramos el porcentaje de 0, pues en este caso aunque no sean binarias, el valor que más se puede repetir es el 0."
   ],
   "metadata": {
    "collapsed": false
   }
  },
  {
   "cell_type": "code",
   "execution_count": 92,
   "outputs": [
    {
     "data": {
      "text/plain": "       num_a      num_e     num_i      num_o     num_u      num_b      num_c  \\\n0  53.390688  49.898785  69.58502  69.635628  82.84413  91.244939  77.732794   \n\n       num_d      num_f      num_g  ...      num_m      num_n      num_p  \\\n0  84.463563  92.763158  89.574899  ...  84.969636  71.811741  83.248988   \n\n      num_q      num_r      num_s      num_t     num_v      num_x      num_z  \n0  98.12753  58.147773  71.103239  64.220648  93.47166  97.672065  99.746964  \n\n[1 rows x 24 columns]",
      "text/html": "<div>\n<style scoped>\n    .dataframe tbody tr th:only-of-type {\n        vertical-align: middle;\n    }\n\n    .dataframe tbody tr th {\n        vertical-align: top;\n    }\n\n    .dataframe thead th {\n        text-align: right;\n    }\n</style>\n<table border=\"1\" class=\"dataframe\">\n  <thead>\n    <tr style=\"text-align: right;\">\n      <th></th>\n      <th>num_a</th>\n      <th>num_e</th>\n      <th>num_i</th>\n      <th>num_o</th>\n      <th>num_u</th>\n      <th>num_b</th>\n      <th>num_c</th>\n      <th>num_d</th>\n      <th>num_f</th>\n      <th>num_g</th>\n      <th>...</th>\n      <th>num_m</th>\n      <th>num_n</th>\n      <th>num_p</th>\n      <th>num_q</th>\n      <th>num_r</th>\n      <th>num_s</th>\n      <th>num_t</th>\n      <th>num_v</th>\n      <th>num_x</th>\n      <th>num_z</th>\n    </tr>\n  </thead>\n  <tbody>\n    <tr>\n      <th>0</th>\n      <td>53.390688</td>\n      <td>49.898785</td>\n      <td>69.58502</td>\n      <td>69.635628</td>\n      <td>82.84413</td>\n      <td>91.244939</td>\n      <td>77.732794</td>\n      <td>84.463563</td>\n      <td>92.763158</td>\n      <td>89.574899</td>\n      <td>...</td>\n      <td>84.969636</td>\n      <td>71.811741</td>\n      <td>83.248988</td>\n      <td>98.12753</td>\n      <td>58.147773</td>\n      <td>71.103239</td>\n      <td>64.220648</td>\n      <td>93.47166</td>\n      <td>97.672065</td>\n      <td>99.746964</td>\n    </tr>\n  </tbody>\n</table>\n<p>1 rows × 24 columns</p>\n</div>"
     },
     "execution_count": 92,
     "metadata": {},
     "output_type": "execute_result"
    }
   ],
   "source": [
    "columns_names_list = list(df_idiomas4.columns.values[11:df_idiomas4.shape[1]])\n",
    "columns_names_list\n",
    "function.porcentaje(df_idiomas4,columns_names_list)"
   ],
   "metadata": {
    "collapsed": false
   }
  },
  {
   "cell_type": "markdown",
   "source": [
    "Analizando el resultado anterior vemos que se pueden eliminar las columnas:\n",
    "- **num_j**\n",
    "- **num_k**\n",
    "- **num_q**\n",
    "- **num_x**\n",
    "- **num_z**"
   ],
   "metadata": {
    "collapsed": false
   }
  },
  {
   "cell_type": "code",
   "execution_count": 93,
   "outputs": [
    {
     "data": {
      "text/plain": "  palabra  idioma  num_vocales  num_cons  longitud  conjuntosVocales  Accent  \\\n0     com      -1            1         2         3                 0       0   \n1    seva      -1            2         2         4                 0       0   \n2     que      -1            2         1         3                 1       0   \n3     ell      -1            1         2         3                 0       0   \n4     era      -1            2         1         3                 0       0   \n\n   num_w  max_distance_vocales  max_distance_cons  ...  num_g  num_h  num_l  \\\n0      0                     0                  1  ...      0      0      0   \n1      0                     1                  1  ...      0      0      0   \n2      0                     0                  0  ...      0      0      0   \n3      0                     0                  0  ...      0      0      2   \n4      0                     1                  0  ...      0      0      0   \n\n   num_m  num_n  num_p  num_r  num_s  num_t  num_v  \n0      1      0      0      0      0      0      0  \n1      0      0      0      0      1      0      1  \n2      0      0      0      0      0      0      0  \n3      0      0      0      0      0      0      0  \n4      0      0      0      1      0      0      0  \n\n[5 rows x 30 columns]",
      "text/html": "<div>\n<style scoped>\n    .dataframe tbody tr th:only-of-type {\n        vertical-align: middle;\n    }\n\n    .dataframe tbody tr th {\n        vertical-align: top;\n    }\n\n    .dataframe thead th {\n        text-align: right;\n    }\n</style>\n<table border=\"1\" class=\"dataframe\">\n  <thead>\n    <tr style=\"text-align: right;\">\n      <th></th>\n      <th>palabra</th>\n      <th>idioma</th>\n      <th>num_vocales</th>\n      <th>num_cons</th>\n      <th>longitud</th>\n      <th>conjuntosVocales</th>\n      <th>Accent</th>\n      <th>num_w</th>\n      <th>max_distance_vocales</th>\n      <th>max_distance_cons</th>\n      <th>...</th>\n      <th>num_g</th>\n      <th>num_h</th>\n      <th>num_l</th>\n      <th>num_m</th>\n      <th>num_n</th>\n      <th>num_p</th>\n      <th>num_r</th>\n      <th>num_s</th>\n      <th>num_t</th>\n      <th>num_v</th>\n    </tr>\n  </thead>\n  <tbody>\n    <tr>\n      <th>0</th>\n      <td>com</td>\n      <td>-1</td>\n      <td>1</td>\n      <td>2</td>\n      <td>3</td>\n      <td>0</td>\n      <td>0</td>\n      <td>0</td>\n      <td>0</td>\n      <td>1</td>\n      <td>...</td>\n      <td>0</td>\n      <td>0</td>\n      <td>0</td>\n      <td>1</td>\n      <td>0</td>\n      <td>0</td>\n      <td>0</td>\n      <td>0</td>\n      <td>0</td>\n      <td>0</td>\n    </tr>\n    <tr>\n      <th>1</th>\n      <td>seva</td>\n      <td>-1</td>\n      <td>2</td>\n      <td>2</td>\n      <td>4</td>\n      <td>0</td>\n      <td>0</td>\n      <td>0</td>\n      <td>1</td>\n      <td>1</td>\n      <td>...</td>\n      <td>0</td>\n      <td>0</td>\n      <td>0</td>\n      <td>0</td>\n      <td>0</td>\n      <td>0</td>\n      <td>0</td>\n      <td>1</td>\n      <td>0</td>\n      <td>1</td>\n    </tr>\n    <tr>\n      <th>2</th>\n      <td>que</td>\n      <td>-1</td>\n      <td>2</td>\n      <td>1</td>\n      <td>3</td>\n      <td>1</td>\n      <td>0</td>\n      <td>0</td>\n      <td>0</td>\n      <td>0</td>\n      <td>...</td>\n      <td>0</td>\n      <td>0</td>\n      <td>0</td>\n      <td>0</td>\n      <td>0</td>\n      <td>0</td>\n      <td>0</td>\n      <td>0</td>\n      <td>0</td>\n      <td>0</td>\n    </tr>\n    <tr>\n      <th>3</th>\n      <td>ell</td>\n      <td>-1</td>\n      <td>1</td>\n      <td>2</td>\n      <td>3</td>\n      <td>0</td>\n      <td>0</td>\n      <td>0</td>\n      <td>0</td>\n      <td>0</td>\n      <td>...</td>\n      <td>0</td>\n      <td>0</td>\n      <td>2</td>\n      <td>0</td>\n      <td>0</td>\n      <td>0</td>\n      <td>0</td>\n      <td>0</td>\n      <td>0</td>\n      <td>0</td>\n    </tr>\n    <tr>\n      <th>4</th>\n      <td>era</td>\n      <td>-1</td>\n      <td>2</td>\n      <td>1</td>\n      <td>3</td>\n      <td>0</td>\n      <td>0</td>\n      <td>0</td>\n      <td>1</td>\n      <td>0</td>\n      <td>...</td>\n      <td>0</td>\n      <td>0</td>\n      <td>0</td>\n      <td>0</td>\n      <td>0</td>\n      <td>0</td>\n      <td>1</td>\n      <td>0</td>\n      <td>0</td>\n      <td>0</td>\n    </tr>\n  </tbody>\n</table>\n<p>5 rows × 30 columns</p>\n</div>"
     },
     "execution_count": 93,
     "metadata": {},
     "output_type": "execute_result"
    }
   ],
   "source": [
    "columns_to_drop = ['num_j','num_k','num_q','num_x','num_z']\n",
    "df_idiomas5=df_idiomas4.copy()\n",
    "df_idiomas5=df_idiomas5.drop(columns_to_drop,axis=1)\n",
    "df_idiomas5.head(5)"
   ],
   "metadata": {
    "collapsed": false
   }
  },
  {
   "cell_type": "markdown",
   "source": [
    "#### CUARTO MODELO"
   ],
   "metadata": {
    "collapsed": false
   }
  },
  {
   "cell_type": "markdown",
   "source": [
    "Repetimos el procedimiento anterior."
   ],
   "metadata": {
    "collapsed": false
   }
  },
  {
   "cell_type": "code",
   "execution_count": 94,
   "outputs": [],
   "source": [
    "df_entrenamiento4 = df_idiomas5.copy()\n",
    "df_entrenamiento4 = df_entrenamiento4.drop('palabra', axis=1)\n",
    "y = df_entrenamiento4['idioma']\n",
    "X = df_entrenamiento4.drop('idioma', axis=1)"
   ],
   "metadata": {
    "collapsed": false
   }
  },
  {
   "cell_type": "code",
   "execution_count": 95,
   "outputs": [
    {
     "name": "stdout",
     "output_type": "stream",
     "text": [
      "              precision    recall  f1-score   support\n",
      "\n",
      "     Catalán       0.73      0.71      0.72       331\n",
      "      Inglés       0.71      0.73      0.72       322\n",
      "\n",
      "    accuracy                           0.72       653\n",
      "   macro avg       0.72      0.72      0.72       653\n",
      "weighted avg       0.72      0.72      0.72       653\n",
      "\n"
     ]
    }
   ],
   "source": [
    "X_train, X_test, y_train, y_test = train_test_split(X, y, test_size=0.33, random_state=42)\n",
    "svm4 = SVC(C=1.0, kernel='linear')\n",
    "svm4.fit(X_train, y_train)\n",
    "y_predicted4 = svm4.predict(X_test)\n",
    "print(classification_report(y_test, y_predicted4, target_names=[\"Catalán\",\"Inglés\"]))\n",
    "res_cat.append(0.73)\n",
    "res_ing.append(0.71)\n",
    "res_glo.append(0.72)"
   ],
   "metadata": {
    "collapsed": false
   }
  },
  {
   "cell_type": "markdown",
   "source": [
    "#### Conclusión cuarta iteración\n",
    "\n",
    "Podemos ver como **Catalán** e **Inglés** han aumentado su precisión a **0.73** y **0.71** respectivamente, alcanzando así el objetivo.\n",
    "Esto se debe a que las características generales que se han añadido nos aportan la información necesaria y además como son bastantes, pues aportan bastante al resultado, también hay que tener ene cuenta que no se han tenido que eliminar muchas, ya que tal vez si se hubieran elegido otras más específicas habrían tenido mucho porcentaje de 0 y, por lo tanto, al eliminarlas no nos habrían aportado."
   ],
   "metadata": {
    "collapsed": false
   }
  },
  {
   "cell_type": "markdown",
   "source": [
    "## Conclusiones finales"
   ],
   "metadata": {
    "collapsed": false
   }
  },
  {
   "cell_type": "code",
   "execution_count": 112,
   "outputs": [
    {
     "data": {
      "text/plain": "<Figure size 640x480 with 1 Axes>",
      "image/png": "[encoded data removed]"
     },
     "metadata": {},
     "output_type": "display_data"
    }
   ],
   "source": [
    "X = ['Modelo 1','Modelo 2','Modelo 3','Modelo 4']\n",
    "X_axis = np.arange(len(X))\n",
    "plt.bar(X_axis - 0.3, res_cat, 0.2, label = 'Catalan')\n",
    "plt.bar(X_axis , res_ing, 0.2, label = 'Ingles')\n",
    "plt.bar(X_axis+0.3 ,res_glo, 0.2, label = 'Global')\n",
    "plt.xticks(X_axis, X)\n",
    "plt.xlabel(\"Modelos\")\n",
    "plt.ylabel(\"Precision\")\n",
    "plt.title(\"Precision de los modelos\")\n",
    "plt.legend(bbox_to_anchor=(1.02, 1),loc=\"upper left\")\n",
    "plt.show()"
   ],
   "metadata": {
    "collapsed": false
   }
  },
  {
   "cell_type": "markdown",
   "source": [
    "Analizando los resultados podemos concluir que utilizar caracteristicas especifica para un conjunto de datos pequeños no es muy buena opcion debido a que es altamente probable que dichas caracteristicas apenas aparezcan en las muestras y por lo tanto no aportarñian mucha información al modelo, consiguiendo peores resultados."
   ],
   "metadata": {
    "collapsed": false
   }
  }
 ],
 "metadata": {
  "kernelspec": {
   "display_name": "Python 3",
   "language": "python",
   "name": "python3"
  },
  "language_info": {
   "codemirror_mode": {
    "name": "ipython",
    "version": 2
   },
   "file_extension": ".py",
   "mimetype": "text/x-python",
   "name": "python",
   "nbconvert_exporter": "python",
   "pygments_lexer": "ipython2",
   "version": "2.7.6"
  }
 },
 "nbformat": 4,
 "nbformat_minor": 0
}
